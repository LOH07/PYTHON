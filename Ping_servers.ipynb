{
 "cells": [
  {
   "cell_type": "code",
   "execution_count": null,
   "metadata": {},
   "outputs": [],
   "source": [
    "import os\n",
    "import time\n",
    "\n",
    "\n",
    "servers = {'127.0.0.1':0,'0.0.0.1':0}\n",
    "\n",
    "\n",
    "for server,pings in servers.items():\n",
    "\n",
    "    os.system(f'ping -c 1 {server} > ping.txt')\n",
    "\n",
    "    #time.sleep(5)\n",
    "\n",
    "    with open('ping.txt','r') as f:\n",
    "        txt = f.read()\n",
    "        if ' 0% ' in txt:\n",
    "            print(f'Ping successful to server {server}')\n",
    "        else:\n",
    "            pings += 1\n",
    "            print(f'Ping not succesful to server {server}')\n",
    "            print(f'missed pings for server {server} is {pings}')\n"
   ]
  }
 ],
 "metadata": {
  "kernelspec": {
   "display_name": "Python 3",
   "language": "python",
   "name": "python3"
  },
  "language_info": {
   "codemirror_mode": {
    "name": "ipython",
    "version": 3
   },
   "file_extension": ".py",
   "mimetype": "text/x-python",
   "name": "python",
   "nbconvert_exporter": "python",
   "pygments_lexer": "ipython3",
   "version": "3.7.3"
  }
 },
 "nbformat": 4,
 "nbformat_minor": 2
}
