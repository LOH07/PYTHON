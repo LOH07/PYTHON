{
 "cells": [
  {
   "cell_type": "code",
   "execution_count": 1,
   "metadata": {},
   "outputs": [
    {
     "name": "stdout",
     "output_type": "stream",
     "text": [
      "~a5Z6Nvmcn)\n"
     ]
    }
   ],
   "source": [
    "# This solution includes letters,numbers and special characters (ASCII 33-126)\n",
    "import random\n",
    "\n",
    "# password length\n",
    "pl = random.randint(8,12)\n",
    "\n",
    "# this will be the password\n",
    "p = ''\n",
    "\n",
    "while len(p)<pl:\n",
    "    c = chr(random.randint(33,126))\n",
    "    p = p + c\n",
    "\n",
    "print(p)"
   ]
  },
  {
   "cell_type": "code",
   "execution_count": 2,
   "metadata": {},
   "outputs": [
    {
     "name": "stdout",
     "output_type": "stream",
     "text": [
      "5jN8yC0H\n"
     ]
    }
   ],
   "source": [
    "# This solution does NOT INCLUDE special characters (ASCII 32-47,58-64,91-96,123-126)\n",
    "# It only includes Letters and Numbers\n",
    "\n",
    "pl = random.randint(8,12)\n",
    "\n",
    "p = ''\n",
    "\n",
    "while len(p)<pl:\n",
    "    c = random.choice([chr(random.randint(48,57)),chr(random.randint(65,90)),chr(random.randint(97,122))])\n",
    "    \n",
    "    p = p + c\n",
    "\n",
    "print(p)"
   ]
  }
 ],
 "metadata": {
  "kernelspec": {
   "display_name": "Python 3",
   "language": "python",
   "name": "python3"
  },
  "language_info": {
   "codemirror_mode": {
    "name": "ipython",
    "version": 3
   },
   "file_extension": ".py",
   "mimetype": "text/x-python",
   "name": "python",
   "nbconvert_exporter": "python",
   "pygments_lexer": "ipython3",
   "version": "3.7.3"
  }
 },
 "nbformat": 4,
 "nbformat_minor": 2
}
