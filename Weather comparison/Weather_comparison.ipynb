{
 "cells": [
  {
   "cell_type": "code",
   "execution_count": 1,
   "metadata": {},
   "outputs": [],
   "source": [
    "import datetime\n",
    "import json\n",
    "import matplotlib.pyplot as plt\n",
    "import pandas as pd\n",
    "import seaborn as sns\n",
    "\n",
    "\n",
    "# open the 'jan2020.json' file so that JSON library can parse it\n",
    "# because JSON can't .read() files\n",
    "with open('jan2020.json') as jan2020:\n",
    "    jan2020 = jan2020.read()\n",
    "\n",
    "# open the 'feb2020.json' file so that JSON library can parse it\n",
    "# because JSON can't .read() files\n",
    "with open('feb2020.json') as feb2020:\n",
    "    feb2020 = feb2020.read()\n",
    "\n",
    "with open('jan2021.json') as jan2021:\n",
    "    jan2021 = jan2021.read()\n",
    "\n",
    "with open('feb2021.json') as feb2021:\n",
    "    feb2021 = feb2021.read()\n",
    "\n",
    "# JSON library loads the data read from the 'jan2020.json' file\n",
    "jan2020 = json.loads(jan2020)\n",
    "\n",
    "# JSON library loads the data read from the 'feb2020.json' file\n",
    "feb2020 = json.loads(feb2020)\n",
    "\n",
    "# JSON library loads the data read from the 'jan2021.json' file\n",
    "jan2021 = json.loads(jan2021)\n",
    "\n",
    "# JSON library loads the data read from the 'feb2021.json' file\n",
    "feb2021 = json.loads(feb2021)"
   ]
  },
  {
   "cell_type": "code",
   "execution_count": 2,
   "metadata": {},
   "outputs": [],
   "source": [
    "# this is needed to convert the days of the month into timestamps\n",
    "# in order to compare with the timestamps in 'jan2020/feb2020' files\n",
    "days = list(range(1,32))\n",
    "\n",
    "# this will hold the timestamps 'ds,de' (day start,day end) as tuples\n",
    "# example: ts = [(1577836800.0, 1577923140.0),(1577923200.0, 1578009540.0)...]\n",
    "ts1 = []\n",
    "ts2 = []\n",
    "\n",
    "for d in days:\n",
    "    # create a datetime object representing the start of the day and convert to timestamp\n",
    "    ds1 = datetime.datetime.timestamp(datetime.datetime(2020,1,d,0,0))\n",
    "    # create a datetime object representing the end of the day and convert to timestamp\n",
    "    de1 = datetime.datetime.timestamp(datetime.datetime(2020,1,d,23,59))\n",
    "    # create a datetime object representing the start of the day and convert to timestamp\n",
    "    ds2 = datetime.datetime.timestamp(datetime.datetime(2021,1,d,0,0))\n",
    "    # create a datetime object representing the end of the day and convert to timestamp\n",
    "    de2 = datetime.datetime.timestamp(datetime.datetime(2021,1,d,23,59))\n",
    "    \n",
    "    ts1.append((ds1,de1))\n",
    "    ts2.append((ds2,de2))\n"
   ]
  },
  {
   "cell_type": "code",
   "execution_count": 3,
   "metadata": {},
   "outputs": [],
   "source": [
    "# this will hold the temperatures of each day as a list (t = [d,d,d...])\n",
    "j2020 = []\n",
    "\n",
    "for i in ts1:\n",
    "    d = []\n",
    "    for item in jan2020['observations']:\n",
    "        if item['valid_time_gmt']>=i[0] and item['valid_time_gmt']<=i[1]:\n",
    "            d.append(item['temp'])\n",
    "        else:\n",
    "            pass\n",
    "    # This is needed in order to prevent EMPTY 'd' lists from being added to the 't' list\n",
    "    # because the last days of the month are missing\n",
    "    if d==[]:\n",
    "        break\n",
    "    else:\n",
    "        j2020.append(d)\n",
    "\n",
    "# unfortunately next month must be searched for the last days of the previous month\n",
    "# because the last days of the previous month are missing\n",
    "for i in ts1[len(j2020):]:\n",
    "    d = []\n",
    "    for item in feb2020['observations']:\n",
    "        if item['valid_time_gmt']>=i[0] and item['valid_time_gmt']<=i[1]:\n",
    "            d.append(item['temp'])\n",
    "        else:\n",
    "            pass\n",
    "    j2020.append(d)\n"
   ]
  },
  {
   "cell_type": "code",
   "execution_count": 4,
   "metadata": {},
   "outputs": [],
   "source": [
    "# this will hold the temperatures of each day as a list (t = [d,d,d...])\n",
    "j2021 = []\n",
    "\n",
    "for i in ts2:\n",
    "    d = []\n",
    "    for item in jan2021['observations']:\n",
    "        if item['valid_time_gmt']>=i[0] and item['valid_time_gmt']<=i[1]:\n",
    "            d.append(item['temp'])\n",
    "        else:\n",
    "            pass\n",
    "    # This is needed in order to prevent EMPTY 'd' lists from being added to the 't' list\n",
    "    # because the last days of the month are missing\n",
    "    if d==[]:\n",
    "        break\n",
    "    else:\n",
    "        j2021.append(d)\n",
    "\n",
    "# unfortunately next month must be searched for the last days of the previous month\n",
    "# because the last days of the previous month are missing\n",
    "for i in ts2[len(j2021):]:\n",
    "    d = []\n",
    "    for item in feb2021['observations']:\n",
    "        if item['valid_time_gmt']>=i[0] and item['valid_time_gmt']<=i[1]:\n",
    "            d.append(item['temp'])\n",
    "        else:\n",
    "            pass\n",
    "    j2021.append(d)\n"
   ]
  },
  {
   "cell_type": "code",
   "execution_count": 5,
   "metadata": {},
   "outputs": [],
   "source": [
    "jan = []\n",
    "\n",
    "for d in j2020:\n",
    "    jan.append({'year':2020,'day':j2020.index(d)+1,'hi':max(d),'low':min(d)})\n",
    "\n",
    "for d in j2021:\n",
    "    jan.append({'year':2021,'day':j2021.index(d)+1,'hi':max(d),'low':min(d)})\n"
   ]
  },
  {
   "cell_type": "code",
   "execution_count": 6,
   "metadata": {},
   "outputs": [
    {
     "data": {
      "image/png": "[encoded data removed]",
      "text/plain": [
       "<Figure size 1200x400 with 1 Axes>"
      ]
     },
     "metadata": {
      "needs_background": "light"
     },
     "output_type": "display_data"
    }
   ],
   "source": [
    "jan = pd.DataFrame(jan)\n",
    "\n",
    "plt.figure(figsize=(12.0,4.0),dpi=100)\n",
    "plt.title('January day temperatures')\n",
    "sns.barplot(x=jan['day'],y=jan['hi'],data=jan,hue=jan['year'],palette=['#ff4500','#ff6347'])\n",
    "plt.xlabel('Day of the month')\n",
    "plt.ylabel('Temperature')\n",
    "plt.show()"
   ]
  }
 ],
 "metadata": {
  "kernelspec": {
   "display_name": "Python 3",
   "language": "python",
   "name": "python3"
  },
  "language_info": {
   "codemirror_mode": {
    "name": "ipython",
    "version": 3
   },
   "file_extension": ".py",
   "mimetype": "text/x-python",
   "name": "python",
   "nbconvert_exporter": "python",
   "pygments_lexer": "ipython3",
   "version": "3.7.3"
  }
 },
 "nbformat": 4,
 "nbformat_minor": 2
}
